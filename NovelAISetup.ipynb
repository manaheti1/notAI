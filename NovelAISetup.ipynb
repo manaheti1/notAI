{
  "nbformat": 4,
  "nbformat_minor": 0,
  "metadata": {
    "colab": {
      "provenance": []
    },
    "kernelspec": {
      "name": "python3",
      "display_name": "Python 3"
    },
    "language_info": {
      "name": "python"
    }
  },
  "cells": [
    {
      "cell_type": "code",
      "execution_count": null,
      "metadata": {
        "id": "0JbV1R0pofVt"
      },
      "outputs": [],
      "source": [
        "#@title ### 1. Install Files\n",
        "\n",
        "%cd /content/\n",
        "!pip install gdown",
        "!gdown --fuzzy https://drive.google.com/file/d?id=1--QOWFiET4fjqO8pTgSVtx1gw0ooCkSx",
        "!gdown --fuzzy https://drive.google.com/file/d?id=1--4KrvivgEvpUUGBDSbozZXXpuGTYem6",
        "!echo \"Decompressing...\"\n",
        "!tar xf naifu.tar && rm naifu.tar\n",
        "!echo \"Done.\"\n",
        "\n",
        "%cd /content/naifu\n",
        "%cd /content/naifu\n",
        "!pip install virtualenv && bash ./setup.sh\n",
        "!curl -Ls https://github.com/ekzhang/bore/releases/download/v0.4.0/bore-v0.4.0-x86_64-unknown-linux-musl.tar.gz | tar zx -C /usr/bin\n",
        "!curl -Lo /usr/bin/cloudflared https://github.com/cloudflare/cloudflared/releases/latest/download/cloudflared-linux-amd64 && chmod +x /usr/bin/cloudflared"
      ]
    },
    {
      "cell_type": "code",
      "source": [
        "pip install pytorch-lightning",
        "#@title ### 2. Setup NovelAI\n",
        "\n",
        "%cd /content/naifu\n",
        "!sed -i 's/# export SAVE_FILES=\"1\"/export SAVE_FILES=\"1\"/g' run.sh\n",
        "!bash run.sh & cloudflared tunnel --url localhost:6969\n",
        "\n"
      ],
      "metadata": {
        "id": "zCH1YcN9oo5x"
      },
      "execution_count": null,
      "outputs": []
    }
  ]
}
